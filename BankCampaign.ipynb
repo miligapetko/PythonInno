{
 "cells": [
  {
   "cell_type": "markdown",
   "id": "ba158b3b-cbf1-40f5-ab6e-50a9fcdc1026",
   "metadata": {},
   "source": [
    "# Workbench Workshop: Building AI Using SAS and Python"
   ]
  },
  {
   "attachments": {},
   "cell_type": "markdown",
   "id": "d39f9b03-244f-4991-8771-6752e2c4501f",
   "metadata": {},
   "source": [
    "Today, we are analysing the latest campaign for a financial services firm. The purpose of our project is to build and train a few models which can be used to predict if a customer of the bank will purchase an insurance product from the bank for the current campaign. We will work together to find the best model for the firm.\n",
    "\n",
    "We are targeting the variable <b>Status</b> as it represents whether a customer did [1] or did not [0] purchase a product based on their current campaign.\n",
    "\n",
    "The bank data set is a sample taken from a large financial services firm accounts. Accounts in the data represent consumers of home equity lines of credit, automobile loans, and other types of short-term to medium-term credit instruments."
   ]
  },
  {
   "cell_type": "markdown",
   "id": "424d8f16-17f3-492d-9851-cd92a028b6e4",
   "metadata": {},
   "source": [
    "# Instructions\n",
    "Follow along as we use Python on Workbench to prepare, explore,and model our data. For this project, we will be calling in SAS algorithms to help us create the best model we can.\n",
    "\n",
    "If you have not used a Jupyter notebook before - you can click on the code cells and press the \"play\" button at the top menu. You can also use \"Shift + Enter\""
   ]
  },
  {
   "cell_type": "markdown",
   "id": "ae15b961-bfb0-4303-a33d-84cc2f633b89",
   "metadata": {},
   "source": [
    "# Step 1: Install and Import Packages\n",
    "Importing Python packages is essential because it allows us to access pre-built functions and tools that streamline development. Some of these may be your favorites!"
   ]
  },
  {
   "cell_type": "markdown",
   "id": "79165a6f-2cb8-441c-bc24-05fdfdd676f3",
   "metadata": {},
   "source": [
    "## Install Packages"
   ]
  },
  {
   "cell_type": "code",
   "execution_count": 1,
   "id": "37d7287e-b38a-46e9-8e10-97d9dfdad6d5",
   "metadata": {},
   "outputs": [
    {
     "name": "stdout",
     "output_type": "stream",
     "text": [
      "Defaulting to user installation because normal site-packages is not writeable\n",
      "Requirement already satisfied: imbalanced-learn in /workspaces/mizgal/.user-python-packages/lib/python3.11/site-packages (0.12.3)\n",
      "Requirement already satisfied: numpy>=1.17.3 in /usr/local/lib64/python3.11/site-packages (from imbalanced-learn) (1.26.4)\n",
      "Requirement already satisfied: scipy>=1.5.0 in /usr/local/lib64/python3.11/site-packages (from imbalanced-learn) (1.12.0)\n",
      "Requirement already satisfied: scikit-learn>=1.0.2 in /usr/local/lib64/python3.11/site-packages (from imbalanced-learn) (1.3.0)\n",
      "Requirement already satisfied: joblib>=1.1.1 in /usr/local/lib/python3.11/site-packages (from imbalanced-learn) (1.3.2)\n",
      "Requirement already satisfied: threadpoolctl>=2.0.0 in /usr/local/lib/python3.11/site-packages (from imbalanced-learn) (3.3.0)\n",
      "Note: you may need to restart the kernel to use updated packages.\n"
     ]
    }
   ],
   "source": [
    "%pip install imbalanced-learn"
   ]
  },
  {
   "cell_type": "markdown",
   "id": "49c09dd3-31bf-423a-86c9-94bd2855be95",
   "metadata": {},
   "source": [
    "<div class=\"alert alert-info\" role=\"alert\">\n",
    "After you have installed imbalance-learn, please restart your kernel to assure imbalance-learn is fully incorporated. \n",
    "\n",
    "Can do this by finding \"Kernel\" at the top of the page and clicking \"Restart kernel\"\n",
    "</div>"
   ]
  },
  {
   "cell_type": "markdown",
   "id": "0de2ae02-df96-4d38-93b8-dcc82fd5b26e",
   "metadata": {},
   "source": [
    "## Import Packages"
   ]
  },
  {
   "cell_type": "code",
   "execution_count": 2,
   "id": "d10ad630-6fda-41cb-bd06-44a028a786b1",
   "metadata": {},
   "outputs": [],
   "source": [
    "import os\n",
    "import numpy as np\n",
    "import pandas as pd\n",
    "import matplotlib.pyplot as plt\n",
    "\n",
    "from sklearn.preprocessing import LabelEncoder\n",
    "from sklearn.model_selection import train_test_split\n",
    "from sklearn.ensemble import RandomForestClassifier, GradientBoostingClassifier\n",
    "from sklearn.tree import DecisionTreeClassifier\n",
    "from sklearn.metrics import classification_report, accuracy_score, recall_score\n",
    "\n",
    "from imblearn.combine import SMOTEENN\n",
    "from imblearn.pipeline import Pipeline\n",
    "from imblearn.ensemble import BalancedBaggingClassifier\n",
    "from imblearn.over_sampling import RandomOverSampler, SMOTE\n",
    "\n",
    "from sasviya.ml.tree import ForestClassifier"
   ]
  },
  {
   "cell_type": "markdown",
   "id": "2901bdb0-58d9-4b6e-b081-5073d0214f27",
   "metadata": {},
   "source": [
    "# Step 2: Importing our Data"
   ]
  },
  {
   "cell_type": "code",
   "execution_count": 3,
   "id": "2bca13cb-8e20-43e0-bfad-0b10c4bd1718",
   "metadata": {},
   "outputs": [
    {
     "name": "stdout",
     "output_type": "stream",
     "text": [
      "Training data shape (108600, 21)\n"
     ]
    }
   ],
   "source": [
    "# Save the bank's data as a dataframe \n",
    "# Using the pandas package \n",
    "\n",
    "# Call csv file by name\n",
    "bank = pd.read_csv(\"./bank.csv\")\n",
    "\n",
    "# Show how many rows and columns in our data\n",
    "print(\"Training data shape\", bank.shape)"
   ]
  },
  {
   "cell_type": "code",
   "execution_count": 4,
   "id": "f029be1e-423f-433a-b8d2-a473db682fb2",
   "metadata": {},
   "outputs": [
    {
     "data": {
      "text/html": [
       "<div>\n",
       "<style scoped>\n",
       "    .dataframe tbody tr th:only-of-type {\n",
       "        vertical-align: middle;\n",
       "    }\n",
       "\n",
       "    .dataframe tbody tr th {\n",
       "        vertical-align: top;\n",
       "    }\n",
       "\n",
       "    .dataframe thead th {\n",
       "        text-align: right;\n",
       "    }\n",
       "</style>\n",
       "<table border=\"1\" class=\"dataframe\">\n",
       "  <thead>\n",
       "    <tr style=\"text-align: right;\">\n",
       "      <th></th>\n",
       "      <th>AccountID</th>\n",
       "      <th>Status</th>\n",
       "      <th>Customer_Value</th>\n",
       "      <th>Age</th>\n",
       "      <th>Home_Flag</th>\n",
       "      <th>Homeval</th>\n",
       "      <th>Inc</th>\n",
       "      <th>Pr</th>\n",
       "      <th>Activity_Status</th>\n",
       "      <th>AvgSale3Yr</th>\n",
       "      <th>...</th>\n",
       "      <th>AvgSale3Yr_DP</th>\n",
       "      <th>LastProdAmt</th>\n",
       "      <th>CntPur3Yr</th>\n",
       "      <th>CntPurLife</th>\n",
       "      <th>CntPur3Yr_DP</th>\n",
       "      <th>CntPurLife_DP</th>\n",
       "      <th>CntTotPromo</th>\n",
       "      <th>MnthsLastPur</th>\n",
       "      <th>Cnt1Yr_DP</th>\n",
       "      <th>CustTenure</th>\n",
       "    </tr>\n",
       "  </thead>\n",
       "  <tbody>\n",
       "    <tr>\n",
       "      <th>0</th>\n",
       "      <td>5200000001</td>\n",
       "      <td>1</td>\n",
       "      <td>A</td>\n",
       "      <td>NaN</td>\n",
       "      <td>0</td>\n",
       "      <td>57600</td>\n",
       "      <td>52106</td>\n",
       "      <td>24</td>\n",
       "      <td>High</td>\n",
       "      <td>5.71</td>\n",
       "      <td>...</td>\n",
       "      <td>5.25</td>\n",
       "      <td>10.0</td>\n",
       "      <td>7</td>\n",
       "      <td>22</td>\n",
       "      <td>4</td>\n",
       "      <td>6</td>\n",
       "      <td>20</td>\n",
       "      <td>5</td>\n",
       "      <td>9</td>\n",
       "      <td>92</td>\n",
       "    </tr>\n",
       "    <tr>\n",
       "      <th>1</th>\n",
       "      <td>5200000002</td>\n",
       "      <td>1</td>\n",
       "      <td>A</td>\n",
       "      <td>NaN</td>\n",
       "      <td>0</td>\n",
       "      <td>57587</td>\n",
       "      <td>52106</td>\n",
       "      <td>24</td>\n",
       "      <td>High</td>\n",
       "      <td>5.71</td>\n",
       "      <td>...</td>\n",
       "      <td>5.25</td>\n",
       "      <td>10.0</td>\n",
       "      <td>7</td>\n",
       "      <td>22</td>\n",
       "      <td>4</td>\n",
       "      <td>6</td>\n",
       "      <td>20</td>\n",
       "      <td>5</td>\n",
       "      <td>9</td>\n",
       "      <td>92</td>\n",
       "    </tr>\n",
       "    <tr>\n",
       "      <th>2</th>\n",
       "      <td>5200000003</td>\n",
       "      <td>1</td>\n",
       "      <td>A</td>\n",
       "      <td>NaN</td>\n",
       "      <td>0</td>\n",
       "      <td>44167</td>\n",
       "      <td>42422</td>\n",
       "      <td>0</td>\n",
       "      <td>High</td>\n",
       "      <td>12.80</td>\n",
       "      <td>...</td>\n",
       "      <td>13.00</td>\n",
       "      <td>12.0</td>\n",
       "      <td>5</td>\n",
       "      <td>16</td>\n",
       "      <td>3</td>\n",
       "      <td>8</td>\n",
       "      <td>27</td>\n",
       "      <td>16</td>\n",
       "      <td>11</td>\n",
       "      <td>91</td>\n",
       "    </tr>\n",
       "    <tr>\n",
       "      <th>3</th>\n",
       "      <td>5200000004</td>\n",
       "      <td>0</td>\n",
       "      <td>A</td>\n",
       "      <td>68.0</td>\n",
       "      <td>0</td>\n",
       "      <td>90587</td>\n",
       "      <td>59785</td>\n",
       "      <td>32</td>\n",
       "      <td>High</td>\n",
       "      <td>21.60</td>\n",
       "      <td>...</td>\n",
       "      <td>20.00</td>\n",
       "      <td>25.0</td>\n",
       "      <td>5</td>\n",
       "      <td>21</td>\n",
       "      <td>2</td>\n",
       "      <td>7</td>\n",
       "      <td>19</td>\n",
       "      <td>15</td>\n",
       "      <td>9</td>\n",
       "      <td>123</td>\n",
       "    </tr>\n",
       "    <tr>\n",
       "      <th>4</th>\n",
       "      <td>5200000005</td>\n",
       "      <td>0</td>\n",
       "      <td>A</td>\n",
       "      <td>NaN</td>\n",
       "      <td>0</td>\n",
       "      <td>100313</td>\n",
       "      <td>0</td>\n",
       "      <td>0</td>\n",
       "      <td>High</td>\n",
       "      <td>7.33</td>\n",
       "      <td>...</td>\n",
       "      <td>7.60</td>\n",
       "      <td>10.0</td>\n",
       "      <td>6</td>\n",
       "      <td>38</td>\n",
       "      <td>5</td>\n",
       "      <td>19</td>\n",
       "      <td>13</td>\n",
       "      <td>24</td>\n",
       "      <td>6</td>\n",
       "      <td>128</td>\n",
       "    </tr>\n",
       "  </tbody>\n",
       "</table>\n",
       "<p>5 rows × 21 columns</p>\n",
       "</div>"
      ],
      "text/plain": [
       "    AccountID  Status Customer_Value   Age  Home_Flag  Homeval    Inc  Pr  \\\n",
       "0  5200000001       1              A   NaN          0    57600  52106  24   \n",
       "1  5200000002       1              A   NaN          0    57587  52106  24   \n",
       "2  5200000003       1              A   NaN          0    44167  42422   0   \n",
       "3  5200000004       0              A  68.0          0    90587  59785  32   \n",
       "4  5200000005       0              A   NaN          0   100313      0   0   \n",
       "\n",
       "  Activity_Status  AvgSale3Yr  ...  AvgSale3Yr_DP  LastProdAmt  CntPur3Yr  \\\n",
       "0            High        5.71  ...           5.25         10.0          7   \n",
       "1            High        5.71  ...           5.25         10.0          7   \n",
       "2            High       12.80  ...          13.00         12.0          5   \n",
       "3            High       21.60  ...          20.00         25.0          5   \n",
       "4            High        7.33  ...           7.60         10.0          6   \n",
       "\n",
       "   CntPurLife  CntPur3Yr_DP  CntPurLife_DP  CntTotPromo  MnthsLastPur  \\\n",
       "0          22             4              6           20             5   \n",
       "1          22             4              6           20             5   \n",
       "2          16             3              8           27            16   \n",
       "3          21             2              7           19            15   \n",
       "4          38             5             19           13            24   \n",
       "\n",
       "   Cnt1Yr_DP  CustTenure  \n",
       "0          9          92  \n",
       "1          9          92  \n",
       "2         11          91  \n",
       "3          9         123  \n",
       "4          6         128  \n",
       "\n",
       "[5 rows x 21 columns]"
      ]
     },
     "execution_count": 4,
     "metadata": {},
     "output_type": "execute_result"
    }
   ],
   "source": [
    "# Have a glimpse of 5 rows from our dataset\n",
    "bank.head()"
   ]
  },
  {
   "cell_type": "markdown",
   "id": "e6aff9e9-58d7-4f1e-8c0d-ef9414a10b50",
   "metadata": {},
   "source": [
    "<div class=\"alert alert-info\" role=\"alert\">\n",
    "We now have our dataset ready to roll. Let's learn more about what information this dataset holds and what insight we can reach.\n",
    "</div>"
   ]
  },
  {
   "cell_type": "markdown",
   "id": "8f7c53a9-bddd-4b1e-ba06-3745d842054b",
   "metadata": {},
   "source": [
    "# Step 3: Exploratory Data Analysis (EDA)"
   ]
  },
  {
   "cell_type": "markdown",
   "id": "779aa938-d903-4bd9-97f2-6e95cf0f4cf0",
   "metadata": {},
   "source": [
    "Exploratory data analysis (EDA) is crucial in data science projects because it helps us understand the structure and characteristics of the data we're working with. By exploring variables, identifying patterns, detecting anomalies, and visualizing relationships, EDA enables us to make informed decisions about data preprocessing, feature engineering, and model selection. It also plays a key role in uncovering insights and formulating hypotheses, laying the groundwork for more accurate modeling and impactful conclusions."
   ]
  },
  {
   "cell_type": "markdown",
   "id": "28b05b52-3db4-48bb-b8cb-3b7cfab2b25a",
   "metadata": {},
   "source": [
    "## Variables "
   ]
  },
  {
   "cell_type": "code",
   "execution_count": 5,
   "id": "d30def92-8b9f-46e4-b07e-0b6d8129881b",
   "metadata": {},
   "outputs": [
    {
     "name": "stdout",
     "output_type": "stream",
     "text": [
      "<class 'pandas.core.frame.DataFrame'>\n",
      "RangeIndex: 108600 entries, 0 to 108599\n",
      "Data columns (total 21 columns):\n",
      " #   Column           Non-Null Count   Dtype  \n",
      "---  ------           --------------   -----  \n",
      " 0   AccountID        108600 non-null  int64  \n",
      " 1   Status           108600 non-null  int64  \n",
      " 2   Customer_Value   108600 non-null  object \n",
      " 3   Age              81143 non-null   float64\n",
      " 4   Home_Flag        108600 non-null  int64  \n",
      " 5   Homeval          108600 non-null  int64  \n",
      " 6   Inc              108600 non-null  int64  \n",
      " 7   Pr               108600 non-null  int64  \n",
      " 8   Activity_Status  108600 non-null  object \n",
      " 9   AvgSale3Yr       108600 non-null  float64\n",
      " 10  AvgSaleLife      108600 non-null  float64\n",
      " 11  AvgSale3Yr_DP    85445 non-null   float64\n",
      " 12  LastProdAmt      108600 non-null  float64\n",
      " 13  CntPur3Yr        108600 non-null  int64  \n",
      " 14  CntPurLife       108600 non-null  int64  \n",
      " 15  CntPur3Yr_DP     108600 non-null  int64  \n",
      " 16  CntPurLife_DP    108600 non-null  int64  \n",
      " 17  CntTotPromo      108600 non-null  int64  \n",
      " 18  MnthsLastPur     108600 non-null  int64  \n",
      " 19  Cnt1Yr_DP        108600 non-null  int64  \n",
      " 20  CustTenure       108600 non-null  int64  \n",
      "dtypes: float64(5), int64(14), object(2)\n",
      "memory usage: 17.4+ MB\n"
     ]
    }
   ],
   "source": [
    "# understanding column names and format\n",
    "bank.info()"
   ]
  },
  {
   "cell_type": "markdown",
   "id": "04dfec09-2437-4f67-96dc-d818c47a884c",
   "metadata": {},
   "source": [
    "<div class=\"alert alert-info\" role=\"alert\">\n",
    "We have a few variables which we would like to treat as categorical variables for future exploration.\n",
    "</div>"
   ]
  },
  {
   "cell_type": "code",
   "execution_count": 6,
   "id": "ab00506c-4405-4416-a2b8-1d2fede0e1ee",
   "metadata": {},
   "outputs": [],
   "source": [
    "# Parsing our categorical variables\n",
    "bank[\"AccountID\"] = bank[\"AccountID\"].astype('category')\n",
    "bank[\"Status\"] = bank[\"Status\"].astype('category')\n",
    "bank[\"Customer_Value\"] = bank[\"Customer_Value\"].astype('category')\n",
    "bank[\"Home_Flag\"] = bank[\"Home_Flag\"].astype('category')\n",
    "bank['Activity_Status'] = bank['Activity_Status'].astype('category')"
   ]
  },
  {
   "cell_type": "code",
   "execution_count": 9,
   "id": "45c2f535-8894-47c3-b050-5daa6c88c7a8",
   "metadata": {},
   "outputs": [],
   "source": [
    "# Check if the parsing worked correctly\n",
    "# Erase the \"#\" from the code below to run\n",
    "#bank.info()"
   ]
  },
  {
   "cell_type": "markdown",
   "id": "d2095d57-53c6-4f88-958e-f74e8ca70ea6",
   "metadata": {},
   "source": [
    "## Missing Data"
   ]
  },
  {
   "cell_type": "code",
   "execution_count": 10,
   "id": "2d8b8bcc-6f9d-49d4-9e41-a6e4acc35cdf",
   "metadata": {},
   "outputs": [
    {
     "data": {
      "text/plain": [
       "AccountID              0\n",
       "Status                 0\n",
       "Customer_Value         0\n",
       "Age                27457\n",
       "Home_Flag              0\n",
       "Homeval                0\n",
       "Inc                    0\n",
       "Pr                     0\n",
       "Activity_Status        0\n",
       "AvgSale3Yr             0\n",
       "AvgSaleLife            0\n",
       "AvgSale3Yr_DP      23155\n",
       "LastProdAmt            0\n",
       "CntPur3Yr              0\n",
       "CntPurLife             0\n",
       "CntPur3Yr_DP           0\n",
       "CntPurLife_DP          0\n",
       "CntTotPromo            0\n",
       "MnthsLastPur           0\n",
       "Cnt1Yr_DP              0\n",
       "CustTenure             0\n",
       "dtype: int64"
      ]
     },
     "execution_count": 10,
     "metadata": {},
     "output_type": "execute_result"
    }
   ],
   "source": [
    "# Checking for missing data in our variables\n",
    "bank.isna().sum()"
   ]
  },
  {
   "cell_type": "markdown",
   "id": "d8c0a5d2-a766-4647-8ac8-f19aaae23be5",
   "metadata": {},
   "source": [
    "<div class=\"alert alert-info\" role=\"alert\">\n",
    "Missing about 25% of data in 2 variables - Age and AvgSale3Yr_DP. We will need to address this before modelling.\n",
    "</div>"
   ]
  },
  {
   "cell_type": "markdown",
   "id": "e36196e7-4127-4217-b927-66f8ff6655d4",
   "metadata": {},
   "source": [
    "## Summary Statistics"
   ]
  },
  {
   "cell_type": "code",
   "execution_count": 13,
   "id": "55f88122-f586-4e33-aacb-5f383eda5d15",
   "metadata": {},
   "outputs": [
    {
     "data": {
      "text/html": [
       "<div>\n",
       "<style scoped>\n",
       "    .dataframe tbody tr th:only-of-type {\n",
       "        vertical-align: middle;\n",
       "    }\n",
       "\n",
       "    .dataframe tbody tr th {\n",
       "        vertical-align: top;\n",
       "    }\n",
       "\n",
       "    .dataframe thead th {\n",
       "        text-align: right;\n",
       "    }\n",
       "</style>\n",
       "<table border=\"1\" class=\"dataframe\">\n",
       "  <thead>\n",
       "    <tr style=\"text-align: right;\">\n",
       "      <th></th>\n",
       "      <th>count</th>\n",
       "      <th>mean</th>\n",
       "      <th>std</th>\n",
       "      <th>min</th>\n",
       "      <th>25%</th>\n",
       "      <th>50%</th>\n",
       "      <th>75%</th>\n",
       "      <th>max</th>\n",
       "    </tr>\n",
       "  </thead>\n",
       "  <tbody>\n",
       "    <tr>\n",
       "      <th>Age</th>\n",
       "      <td>81143.0</td>\n",
       "      <td>58.791874</td>\n",
       "      <td>16.912909</td>\n",
       "      <td>0.00</td>\n",
       "      <td>46.00</td>\n",
       "      <td>60.00</td>\n",
       "      <td>73.00</td>\n",
       "      <td>88.00</td>\n",
       "    </tr>\n",
       "    <tr>\n",
       "      <th>Homeval</th>\n",
       "      <td>108600.0</td>\n",
       "      <td>113281.503057</td>\n",
       "      <td>99259.281461</td>\n",
       "      <td>0.00</td>\n",
       "      <td>53007.75</td>\n",
       "      <td>78083.50</td>\n",
       "      <td>135201.00</td>\n",
       "      <td>600049.00</td>\n",
       "    </tr>\n",
       "    <tr>\n",
       "      <th>Inc</th>\n",
       "      <td>108600.0</td>\n",
       "      <td>40459.551621</td>\n",
       "      <td>28388.996919</td>\n",
       "      <td>0.00</td>\n",
       "      <td>24653.75</td>\n",
       "      <td>43213.00</td>\n",
       "      <td>57223.00</td>\n",
       "      <td>200007.00</td>\n",
       "    </tr>\n",
       "    <tr>\n",
       "      <th>Pr</th>\n",
       "      <td>108600.0</td>\n",
       "      <td>29.636298</td>\n",
       "      <td>12.112024</td>\n",
       "      <td>0.00</td>\n",
       "      <td>24.00</td>\n",
       "      <td>30.00</td>\n",
       "      <td>37.00</td>\n",
       "      <td>100.00</td>\n",
       "    </tr>\n",
       "    <tr>\n",
       "      <th>AvgSale3Yr</th>\n",
       "      <td>108600.0</td>\n",
       "      <td>16.196828</td>\n",
       "      <td>18.744587</td>\n",
       "      <td>-1.00</td>\n",
       "      <td>10.00</td>\n",
       "      <td>15.00</td>\n",
       "      <td>20.00</td>\n",
       "      <td>3713.31</td>\n",
       "    </tr>\n",
       "    <tr>\n",
       "      <th>AvgSaleLife</th>\n",
       "      <td>108600.0</td>\n",
       "      <td>13.471623</td>\n",
       "      <td>9.767661</td>\n",
       "      <td>1.58</td>\n",
       "      <td>8.48</td>\n",
       "      <td>11.67</td>\n",
       "      <td>15.67</td>\n",
       "      <td>650.00</td>\n",
       "    </tr>\n",
       "    <tr>\n",
       "      <th>AvgSale3Yr_DP</th>\n",
       "      <td>85445.0</td>\n",
       "      <td>15.424076</td>\n",
       "      <td>18.420151</td>\n",
       "      <td>0.32</td>\n",
       "      <td>10.00</td>\n",
       "      <td>14.00</td>\n",
       "      <td>20.00</td>\n",
       "      <td>3713.31</td>\n",
       "    </tr>\n",
       "    <tr>\n",
       "      <th>LastProdAmt</th>\n",
       "      <td>108600.0</td>\n",
       "      <td>17.562853</td>\n",
       "      <td>35.787172</td>\n",
       "      <td>-1.00</td>\n",
       "      <td>10.00</td>\n",
       "      <td>15.00</td>\n",
       "      <td>20.00</td>\n",
       "      <td>10000.00</td>\n",
       "    </tr>\n",
       "    <tr>\n",
       "      <th>CntPur3Yr</th>\n",
       "      <td>108600.0</td>\n",
       "      <td>2.905414</td>\n",
       "      <td>2.028177</td>\n",
       "      <td>0.00</td>\n",
       "      <td>1.00</td>\n",
       "      <td>2.00</td>\n",
       "      <td>4.00</td>\n",
       "      <td>18.00</td>\n",
       "    </tr>\n",
       "    <tr>\n",
       "      <th>CntPurLife</th>\n",
       "      <td>108600.0</td>\n",
       "      <td>9.574116</td>\n",
       "      <td>8.553524</td>\n",
       "      <td>0.00</td>\n",
       "      <td>3.00</td>\n",
       "      <td>7.00</td>\n",
       "      <td>13.00</td>\n",
       "      <td>126.00</td>\n",
       "    </tr>\n",
       "    <tr>\n",
       "      <th>CntPur3Yr_DP</th>\n",
       "      <td>108600.0</td>\n",
       "      <td>1.665958</td>\n",
       "      <td>1.526426</td>\n",
       "      <td>0.00</td>\n",
       "      <td>1.00</td>\n",
       "      <td>1.00</td>\n",
       "      <td>2.00</td>\n",
       "      <td>10.00</td>\n",
       "    </tr>\n",
       "    <tr>\n",
       "      <th>CntPurLife_DP</th>\n",
       "      <td>108600.0</td>\n",
       "      <td>5.024052</td>\n",
       "      <td>4.509325</td>\n",
       "      <td>0.00</td>\n",
       "      <td>2.00</td>\n",
       "      <td>4.00</td>\n",
       "      <td>7.00</td>\n",
       "      <td>45.00</td>\n",
       "    </tr>\n",
       "    <tr>\n",
       "      <th>CntTotPromo</th>\n",
       "      <td>108600.0</td>\n",
       "      <td>12.978610</td>\n",
       "      <td>4.759592</td>\n",
       "      <td>0.00</td>\n",
       "      <td>11.00</td>\n",
       "      <td>12.00</td>\n",
       "      <td>14.00</td>\n",
       "      <td>77.00</td>\n",
       "    </tr>\n",
       "    <tr>\n",
       "      <th>MnthsLastPur</th>\n",
       "      <td>108600.0</td>\n",
       "      <td>18.309595</td>\n",
       "      <td>4.077323</td>\n",
       "      <td>3.00</td>\n",
       "      <td>16.00</td>\n",
       "      <td>18.00</td>\n",
       "      <td>20.00</td>\n",
       "      <td>28.00</td>\n",
       "    </tr>\n",
       "    <tr>\n",
       "      <th>Cnt1Yr_DP</th>\n",
       "      <td>108600.0</td>\n",
       "      <td>5.368481</td>\n",
       "      <td>1.373973</td>\n",
       "      <td>0.00</td>\n",
       "      <td>5.00</td>\n",
       "      <td>6.00</td>\n",
       "      <td>6.00</td>\n",
       "      <td>22.00</td>\n",
       "    </tr>\n",
       "    <tr>\n",
       "      <th>CustTenure</th>\n",
       "      <td>108600.0</td>\n",
       "      <td>68.076611</td>\n",
       "      <td>37.295877</td>\n",
       "      <td>0.00</td>\n",
       "      <td>33.00</td>\n",
       "      <td>64.00</td>\n",
       "      <td>102.00</td>\n",
       "      <td>571.00</td>\n",
       "    </tr>\n",
       "  </tbody>\n",
       "</table>\n",
       "</div>"
      ],
      "text/plain": [
       "                  count           mean           std   min       25%  \\\n",
       "Age             81143.0      58.791874     16.912909  0.00     46.00   \n",
       "Homeval        108600.0  113281.503057  99259.281461  0.00  53007.75   \n",
       "Inc            108600.0   40459.551621  28388.996919  0.00  24653.75   \n",
       "Pr             108600.0      29.636298     12.112024  0.00     24.00   \n",
       "AvgSale3Yr     108600.0      16.196828     18.744587 -1.00     10.00   \n",
       "AvgSaleLife    108600.0      13.471623      9.767661  1.58      8.48   \n",
       "AvgSale3Yr_DP   85445.0      15.424076     18.420151  0.32     10.00   \n",
       "LastProdAmt    108600.0      17.562853     35.787172 -1.00     10.00   \n",
       "CntPur3Yr      108600.0       2.905414      2.028177  0.00      1.00   \n",
       "CntPurLife     108600.0       9.574116      8.553524  0.00      3.00   \n",
       "CntPur3Yr_DP   108600.0       1.665958      1.526426  0.00      1.00   \n",
       "CntPurLife_DP  108600.0       5.024052      4.509325  0.00      2.00   \n",
       "CntTotPromo    108600.0      12.978610      4.759592  0.00     11.00   \n",
       "MnthsLastPur   108600.0      18.309595      4.077323  3.00     16.00   \n",
       "Cnt1Yr_DP      108600.0       5.368481      1.373973  0.00      5.00   \n",
       "CustTenure     108600.0      68.076611     37.295877  0.00     33.00   \n",
       "\n",
       "                    50%        75%        max  \n",
       "Age               60.00      73.00      88.00  \n",
       "Homeval        78083.50  135201.00  600049.00  \n",
       "Inc            43213.00   57223.00  200007.00  \n",
       "Pr                30.00      37.00     100.00  \n",
       "AvgSale3Yr        15.00      20.00    3713.31  \n",
       "AvgSaleLife       11.67      15.67     650.00  \n",
       "AvgSale3Yr_DP     14.00      20.00    3713.31  \n",
       "LastProdAmt       15.00      20.00   10000.00  \n",
       "CntPur3Yr          2.00       4.00      18.00  \n",
       "CntPurLife         7.00      13.00     126.00  \n",
       "CntPur3Yr_DP       1.00       2.00      10.00  \n",
       "CntPurLife_DP      4.00       7.00      45.00  \n",
       "CntTotPromo       12.00      14.00      77.00  \n",
       "MnthsLastPur      18.00      20.00      28.00  \n",
       "Cnt1Yr_DP          6.00       6.00      22.00  \n",
       "CustTenure        64.00     102.00     571.00  "
      ]
     },
     "execution_count": 13,
     "metadata": {},
     "output_type": "execute_result"
    }
   ],
   "source": [
    "# Show count, mean, ranges and other useful information to understanding our data\n",
    "bank.describe().T"
   ]
  },
  {
   "cell_type": "markdown",
   "id": "fb2b0172-30cd-4004-b859-ebf8472a43ca",
   "metadata": {},
   "source": [
    "## Distribution"
   ]
  },
  {
   "cell_type": "code",
   "execution_count": 15,
   "id": "c3119941-2da9-487b-a376-e5fec5dc6f08",
   "metadata": {},
   "outputs": [],
   "source": [
    "# Creating a function to plot our data with the details we need\n",
    "\n",
    "def plot_distribution(column):\n",
    "    labels = column.value_counts().index\n",
    "    values = column.value_counts().values\n",
    "\n",
    "    fig, axs = plt.subplots(1, 2, figsize=(12, 6))\n",
    "\n",
    "    axs[0].pie(values, labels=labels, autopct='%1.1f%%', startangle=140)\n",
    "    axs[0].set_title(f'{column.name} Distribution (Pie Chart)')\n",
    "\n",
    "    axs[1].bar(labels, values)\n",
    "    axs[1].set_title(f'{column.name} Distribution (Bar Chart)')\n",
    "    axs[1].set_xlabel(column.name)\n",
    "    axs[1].set_ylabel('Count')\n",
    "\n",
    "    plt.tight_layout()\n",
    "    plt.show()"
   ]
  },
  {
   "cell_type": "code",
   "execution_count": 16,
   "id": "e0ad0060-e2bf-4490-9b5f-c558a769bfc8",
   "metadata": {},
   "outputs": [
    {
     "data": {
      "image/png": "[encoded data removed]",
      "text/plain": [
       "<Figure size 1200x600 with 2 Axes>"
      ]
     },
     "metadata": {},
     "output_type": "display_data"
    }
   ],
   "source": [
    "# Target Variable: Status\n",
    "plot_distribution(bank[\"Status\"])\n"
   ]
  },
  {
   "cell_type": "markdown",
   "id": "968c8b0b-62ec-477f-82f9-2e412649a70f",
   "metadata": {},
   "source": [
    "<div class=\"alert alert-info\" role=\"alert\">\n",
    "Our data is imbalanced - only 25% of our data represents those who did purchase a product based on the campaign. Addressing imbalanced data is important in machine learning because it ensures that our models can make accurate predictions for all types of outcomes, not just the most common ones. When data is imbalanced, the model might favor predicting the majority class, ignoring minority ones.\n",
    "</div>"
   ]
  },
  {
   "cell_type": "code",
   "execution_count": null,
   "id": "c62aac1e-4923-4be6-8ba4-03dcdfa94758",
   "metadata": {},
   "outputs": [],
   "source": []
  }
 ],
 "metadata": {
  "kernelspec": {
   "display_name": "Workbench Python",
   "language": "python",
   "name": "workbench_python"
  },
  "language_info": {
   "codemirror_mode": {
    "name": "ipython",
    "version": 3
   },
   "file_extension": ".py",
   "mimetype": "text/x-python",
   "name": "python",
   "nbconvert_exporter": "python",
   "pygments_lexer": "ipython3",
   "version": "3.11.7"
  }
 },
 "nbformat": 4,
 "nbformat_minor": 5
}
