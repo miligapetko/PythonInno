{
 "cells": [
  {
   "cell_type": "markdown",
   "id": "cb4e288b-879b-4a4e-a6e3-0c9a46cf2745",
   "metadata": {},
   "source": [
    "# Workshop Prep\n",
    "\n",
    "Learning to use github, discovering the narrative of the bank train data set, and figuring out what to showcase at the Workbench demo"
   ]
  },
  {
   "cell_type": "code",
   "execution_count": 1,
   "id": "19cea2d8-b61b-4400-8638-74798704105b",
   "metadata": {},
   "outputs": [],
   "source": [
    "#importing packages\n",
    "\n",
    "import pandas as pd"
   ]
  },
  {
   "cell_type": "code",
   "execution_count": 6,
   "id": "ff16ebdd-be48-4407-a129-7e05f197e97c",
   "metadata": {},
   "outputs": [
    {
     "name": "stdout",
     "output_type": "stream",
     "text": [
      "Training data shape (108600, 21)\n",
      "Testing data shape (225068, 20)\n"
     ]
    }
   ],
   "source": [
    "#importing data\n",
    "\n",
    "bank_train = pd.read_csv(\"./Bank_Train.csv\")\n",
    "print(\"Training data shape\", bank_train.shape)\n",
    "\n",
    "bank_score = pd.read_csv(\"./Bank_Score.csv\")\n",
    "print(\"Testing data shape\", bank_score.shape)"
   ]
  },
  {
   "cell_type": "code",
   "execution_count": null,
   "id": "e79f3e59-3f0b-4d2e-b661-fd0b78e03c39",
   "metadata": {},
   "outputs": [],
   "source": []
  },
  {
   "cell_type": "code",
   "execution_count": null,
   "id": "d1e3cbc0-08fc-4aaf-bc3c-f2a58d1b4e0e",
   "metadata": {},
   "outputs": [],
   "source": []
  }
 ],
 "metadata": {
  "kernelspec": {
   "display_name": "Workbench Python",
   "language": "python",
   "name": "workbench_python"
  },
  "language_info": {
   "codemirror_mode": {
    "name": "ipython",
    "version": 3
   },
   "file_extension": ".py",
   "mimetype": "text/x-python",
   "name": "python",
   "nbconvert_exporter": "python",
   "pygments_lexer": "ipython3",
   "version": "3.11.7"
  }
 },
 "nbformat": 4,
 "nbformat_minor": 5
}
