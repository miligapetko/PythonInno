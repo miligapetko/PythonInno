{
 "cells": [
  {
   "cell_type": "markdown",
   "id": "dac4effe-7b44-4536-9710-7336a381f387",
   "metadata": {},
   "source": [
    "# making the dataset easier to read and understand"
   ]
  },
  {
   "cell_type": "code",
   "execution_count": 13,
   "id": "689f4530-f4d0-4e58-8645-a46162015092",
   "metadata": {},
   "outputs": [
    {
     "name": "stdout",
     "output_type": "stream",
     "text": [
      "Original DataFrame:\n",
      "<class 'pandas.core.frame.DataFrame'>\n",
      "RangeIndex: 108600 entries, 0 to 108599\n",
      "Data columns (total 21 columns):\n",
      " #   Column           Non-Null Count   Dtype  \n",
      "---  ------           --------------   -----  \n",
      " 0   AccountID        108600 non-null  int64  \n",
      " 1   Status           108600 non-null  int64  \n",
      " 2   Customer_Value   108600 non-null  object \n",
      " 3   Demog_Age        81143 non-null   float64\n",
      " 4   Home_Flag        108600 non-null  int64  \n",
      " 5   Demog_Homeval    108600 non-null  int64  \n",
      " 6   demog_inc        108600 non-null  int64  \n",
      " 7   demog_pr         108600 non-null  int64  \n",
      " 8   Activity_Status  108600 non-null  object \n",
      " 9   AvgSale3Yr       108600 non-null  float64\n",
      " 10  AvgSaleLife      108600 non-null  float64\n",
      " 11  AvgSale3Yr_DP    85445 non-null   float64\n",
      " 12  LastProdAmt      108600 non-null  float64\n",
      " 13  CntPur3Yr        108600 non-null  int64  \n",
      " 14  CntPurLife       108600 non-null  int64  \n",
      " 15  CntPur3Yr_DP     108600 non-null  int64  \n",
      " 16  CntPurLife_DP    108600 non-null  int64  \n",
      " 17  CntTotPromo      108600 non-null  int64  \n",
      " 18  MnthsLastPur     108600 non-null  int64  \n",
      " 19  Cnt1Yr_DP        108600 non-null  int64  \n",
      " 20  CustTenure       108600 non-null  int64  \n",
      "dtypes: float64(5), int64(14), object(2)\n",
      "memory usage: 17.4+ MB\n"
     ]
    }
   ],
   "source": [
    "import pandas as pd\n",
    "\n",
    "# Step 1: Read CSV file into a pandas DataFrame\n",
    "csv_file = './Bank_Train.csv'  # Replace with your CSV file path\n",
    "df = pd.read_csv(csv_file)\n",
    "\n",
    "# Display the original DataFrame\n",
    "print(\"Original DataFrame:\")\n",
    "df.info()"
   ]
  },
  {
   "cell_type": "code",
   "execution_count": 19,
   "id": "dd7e0bfe-d5dc-4f50-b6c4-8c5a8d3e791e",
   "metadata": {},
   "outputs": [
    {
     "name": "stdout",
     "output_type": "stream",
     "text": [
      "         AccountID  Status Customer_Value   Age  Home_Flag  Homeval    Inc  \\\n",
      "0       5200000001       1              A   NaN          0    57600  52106   \n",
      "1       5200000002       1              A   NaN          0    57587  52106   \n",
      "2       5200000003       1              A   NaN          0    44167  42422   \n",
      "3       5200000004       0              A  68.0          0    90587  59785   \n",
      "4       5200000005       0              A   NaN          0   100313      0   \n",
      "...            ...     ...            ...   ...        ...      ...    ...   \n",
      "108595  5200108596       0              D  44.0          0   112610  33937   \n",
      "108596  5200108597       0              B   NaN          1    68590  44412   \n",
      "108597  5200108598       1              C  75.0          0    57000  42408   \n",
      "108598  5200108599       0              C   NaN          0    75190      0   \n",
      "108599  5200108600       1              C  69.0          0    64334      0   \n",
      "\n",
      "        Pr Activity_Status  AvgSale3Yr  ...  AvgSale3Yr_DP  LastProdAmt  \\\n",
      "0       24            High        5.71  ...           5.25         10.0   \n",
      "1       24            High        5.71  ...           5.25         10.0   \n",
      "2        0            High       12.80  ...          13.00         12.0   \n",
      "3       32            High       21.60  ...          20.00         25.0   \n",
      "4        0            High        7.33  ...           7.60         10.0   \n",
      "...     ..             ...         ...  ...            ...          ...   \n",
      "108595  15         Average       13.00  ...          16.00         10.0   \n",
      "108596  37            High       19.33  ...          20.00         20.0   \n",
      "108597   0            High        3.80  ...           4.33          3.0   \n",
      "108598  44            High       17.50  ...          15.00         15.0   \n",
      "108599  45            High       12.50  ...          12.50         17.0   \n",
      "\n",
      "        CntPur3Yr  CntPurLife  CntPur3Yr_DP  CntPurLife_DP  CntTotPromo  \\\n",
      "0               7          22             4              6           20   \n",
      "1               7          22             4              6           20   \n",
      "2               5          16             3              8           27   \n",
      "3               5          21             2              7           19   \n",
      "4               6          38             5             19           13   \n",
      "...           ...         ...           ...            ...          ...   \n",
      "108595          2          15             1             11           10   \n",
      "108596          3          21             1             13           12   \n",
      "108597          5          31             3             14           13   \n",
      "108598          2           3             1              2           12   \n",
      "108599          4           5             4              5           12   \n",
      "\n",
      "        MnthsLastPur  Cnt1Yr_DP  CustTenure  \n",
      "0                  5          9          92  \n",
      "1                  5          9          92  \n",
      "2                 16         11          91  \n",
      "3                 15          9         123  \n",
      "4                 24          6         128  \n",
      "...              ...        ...         ...  \n",
      "108595            25          5         105  \n",
      "108596            19          6         126  \n",
      "108597            16          5          97  \n",
      "108598            19          6          37  \n",
      "108599            17          6          41  \n",
      "\n",
      "[108600 rows x 21 columns]\n"
     ]
    }
   ],
   "source": [
    "# Step 2: Define column mappings as a dictionary\n",
    "column_mappings = {\n",
    "    3: 'Age',    \n",
    "    5: 'Homeval',\n",
    "    6: \"Inc\",\n",
    "    7: \"Pr\",\n",
    "}\n",
    "\n",
    "# Step 3: Modify column names using the defined mappings\n",
    "for old_index, new_name in column_mappings.items():\n",
    "    df.columns.values[old_index] = new_name\n",
    "\n",
    "print(df)"
   ]
  },
  {
   "cell_type": "code",
   "execution_count": 20,
   "id": "2efb958b-bbb0-4ee5-b6c7-f1839562c71f",
   "metadata": {},
   "outputs": [
    {
     "name": "stdout",
     "output_type": "stream",
     "text": [
      "\n",
      "Modified DataFrame exported to 'bank.csv'\n"
     ]
    }
   ],
   "source": [
    "# Step 3: Export the modified DataFrame back to a CSV file in the same directory\n",
    "output_csv_file = 'bank.csv'  # New CSV file name\n",
    "\n",
    "df.to_csv(output_csv_file, index=False)\n",
    "\n",
    "print(f\"\\nModified DataFrame exported to '{output_csv_file}'\")"
   ]
  },
  {
   "cell_type": "code",
   "execution_count": null,
   "id": "ad4218a1-5a0d-488c-86ca-3cf0ad459edb",
   "metadata": {},
   "outputs": [],
   "source": []
  }
 ],
 "metadata": {
  "kernelspec": {
   "display_name": "Workbench Python",
   "language": "python",
   "name": "workbench_python"
  },
  "language_info": {
   "codemirror_mode": {
    "name": "ipython",
    "version": 3
   },
   "file_extension": ".py",
   "mimetype": "text/x-python",
   "name": "python",
   "nbconvert_exporter": "python",
   "pygments_lexer": "ipython3",
   "version": "3.11.7"
  }
 },
 "nbformat": 4,
 "nbformat_minor": 5
}
